{
 "cells": [
  {
   "cell_type": "markdown",
   "metadata": {},
   "source": [
    "The initial file with twitts is required."
   ]
  },
  {
   "cell_type": "markdown",
   "metadata": {},
   "source": [
    "In this notebook we will clean gathered twitts in the end we will perform sentiment analysis with Vader library, just as an example.  "
   ]
  },
  {
   "cell_type": "code",
   "execution_count": 2,
   "metadata": {},
   "outputs": [],
   "source": [
    "# General:\n",
    "import tweepy           # To consume Twitter's API\n",
    "import pandas as pd     # To handle data\n",
    "import numpy as np      # For number computing\n",
    "\n",
    "# For plotting and visualization:\n",
    "from IPython.display import display\n",
    "import matplotlib.pyplot as plt\n",
    "import seaborn as sns\n",
    "%matplotlib inline\n",
    "import codecs\n",
    "\n",
    "import re\n",
    "from bs4 import BeautifulSoup\n",
    "from textblob import TextBlob\n",
    "from datetime import datetime, timedelta"
   ]
  },
  {
   "cell_type": "code",
   "execution_count": 3,
   "metadata": {},
   "outputs": [
    {
     "name": "stderr",
     "output_type": "stream",
     "text": [
      "/anaconda3/lib/python3.6/site-packages/IPython/core/interactiveshell.py:3018: DtypeWarning: Columns (2) have mixed types. Specify dtype option on import or set low_memory=False.\n",
      "  interactivity=interactivity, compiler=compiler, result=result)\n"
     ]
    }
   ],
   "source": [
    "# deleting unnesessary simbols\n",
    "def unicodetoascii(text):\n",
    "\n",
    "    TEXT = (text.\n",
    "    \t\treplace('\\\\xe2\\\\x80\\\\x99', \"'\").\n",
    "            replace('\\\\xc3\\\\xa9', 'e').\n",
    "            replace('\\\\xe2\\\\x80\\\\x90', '-').\n",
    "            replace('\\\\xe2\\\\x80\\\\x91', '-').\n",
    "            replace('\\\\xe2\\\\x80\\\\x92', '-').\n",
    "            replace('\\\\xe2\\\\x80\\\\x93', '-').\n",
    "            replace('\\\\xe2\\\\x80\\\\x94', '-').\n",
    "            replace('\\\\xe2\\\\x80\\\\x94', '-').\n",
    "            replace('\\\\xe2\\\\x80\\\\x98', \"'\").\n",
    "            replace('\\\\xe2\\\\x80\\\\x9b', \"'\").\n",
    "            replace('\\\\xe2\\\\x80\\\\x9c', '\"').\n",
    "            replace('\\\\xe2\\\\x80\\\\x9c', '\"').\n",
    "            replace('\\\\xe2\\\\x80\\\\x9d', '\"').\n",
    "            replace('\\\\xe2\\\\x80\\\\x9e', '\"').\n",
    "            replace('\\\\xe2\\\\x80\\\\x9f', '\"').\n",
    "            replace('\\\\xe2\\\\x80\\\\xa6', '...').#\n",
    "            replace('\\\\xe2\\\\x80\\\\xb2', \"'\").\n",
    "            replace('\\\\xe2\\\\x80\\\\xb3', \"'\").\n",
    "            replace('\\\\xe2\\\\x80\\\\xb4', \"'\").\n",
    "            replace('\\\\xe2\\\\x80\\\\xb5', \"'\").\n",
    "            replace('\\\\xe2\\\\x80\\\\xb6', \"'\").\n",
    "            replace('\\\\xe2\\\\x80\\\\xb7', \"'\").\n",
    "            replace('\\\\xe2\\\\x81\\\\xba', \"+\").\n",
    "            replace('\\\\xe2\\\\x81\\\\xbb', \"-\").\n",
    "            replace('\\\\xe2\\\\x81\\\\xbc', \"=\").\n",
    "            replace('\\\\xe2\\\\x81\\\\xbd', \"(\").\n",
    "            replace('\\\\xe2\\\\x81\\\\xbe', \")\")\n",
    "\n",
    "                 )\n",
    "    return TEXT\n"
   ]
  },
  {
   "cell_type": "markdown",
   "metadata": {},
   "source": [
    "Loading the data. "
   ]
  },
  {
   "cell_type": "code",
   "execution_count": null,
   "metadata": {},
   "outputs": [],
   "source": [
    "cols = [\"Date and time\",\"Text\",\"red\"]\n",
    "\n",
    "# gathered tweets from tweeter_madness \n",
    "# tweets with hashtag #bitcoin\n",
    "df = pd.read_csv(\"bit_coi.csv\", header=None, names=cols)\n",
    "\n",
    "\n",
    "# length of the tweets \n",
    "df['pre_clean_len'] = [len(t) for t in df.Text]\n",
    "# let's extract hashtags \n",
    "df['hash_tag'] = [re.findall(r\"#(\\w+)\", t) for t in df.Text]\n",
    "\n"
   ]
  },
  {
   "cell_type": "markdown",
   "metadata": {},
   "source": [
    "## Cleaning tweets "
   ]
  },
  {
   "cell_type": "markdown",
   "metadata": {},
   "source": [
    "On this picture below we can see, that length of some tweets are more than 140.\n",
    "So, cleaning is nessesary. "
   ]
  },
  {
   "cell_type": "code",
   "execution_count": 4,
   "metadata": {},
   "outputs": [
    {
     "data": {
      "image/png": "[encoded data removed]",
      "text/plain": [
       "<Figure size 360x360 with 1 Axes>"
      ]
     },
     "metadata": {
      "needs_background": "light"
     },
     "output_type": "display_data"
    }
   ],
   "source": [
    " fig, ax = plt.subplots(figsize=(5, 5))\n",
    "plt.boxplot(df.pre_clean_len)\n",
    "plt.show()"
   ]
  },
  {
   "cell_type": "markdown",
   "metadata": {},
   "source": [
    "Deleting all unnesessary stuff from twitts. "
   ]
  },
  {
   "cell_type": "code",
   "execution_count": 5,
   "metadata": {},
   "outputs": [],
   "source": [
    "clean_text = []\n",
    "author = []\n",
    "for t in df.Text:\n",
    "    t = BeautifulSoup(t, 'lxml').get_text()\n",
    "    author.append(re.findall(r'@[A-Za-z0-9]+',t))\n",
    "    t = re.sub(r'@[A-Za-z0-9]+','',t)\n",
    "    t = t.strip('\\n, b\\' RT :')\n",
    "    t = t.strip(r'RT')\n",
    "    t = re.sub('[A-za-z0-9]:','',t)\n",
    "    t = re.sub(r'http//[A-Za-z0-9./]+','',t)\n",
    "    t = re.sub(r'\\\\x[A-za-z0-9][A-za-z0-9]','',t)\n",
    "    t = re.sub(r'\\\\n','',t)\n",
    "    t = unicodetoascii(t)\n",
    "    clean_text.append(t)\n",
    "    \n",
    "    \n",
    "remove_punctuaton = '!\"$%&\\'()*+,-./:;<=>?@[\\\\]“”^_`{|}~'\n",
    "set_listset_list = []\n",
    "clean_tweet_list = []\n",
    "set_list = []\n",
    "translator = str.maketrans('', '', remove_punctuaton) #very fast punctuation remover!\n",
    "for word in clean_text:\n",
    "    list_form = word.split() #turns the word into a list\n",
    "    \n",
    "    to_process = [x for x in list_form if not x.startswith(\"@\")] #removes handles\n",
    "    \n",
    "    to_process_2 = [x for x in to_process if not x.startswith(\"RT\")] #removed retweet indicator\n",
    "    \n",
    "    string_form = \" \".join(to_process_2) #back into a string\n",
    "    \n",
    "    set_form = set(string_form.translate(translator).strip().lower().split()) #this is the magic!\n",
    "    \n",
    "    clean_tweet_list.append(string_form.translate(translator).strip().lower())\n",
    "    \n",
    "    set_list.append(tuple(set_form)) #need to make it a tuple so it's hashable!"
   ]
  },
  {
   "cell_type": "code",
   "execution_count": 6,
   "metadata": {},
   "outputs": [],
   "source": [
    "new_list = []\n",
    "for _ in range(len(df['Date and time'])):\n",
    "    new_list.append([df['Date and time'][_],clean_tweet_list[_],set_list[_], df.hash_tag[_],author[_]])\n",
    "cols = [\"date_time\",\"text\",\"core text\", 'hash_tag','author']\n",
    "df_clean = pd.DataFrame.from_records(new_list, columns = cols)\n",
    "# Length of tweets\n",
    "df_clean['pre_clean_len'] = [len(t) for t in df_clean[\"text\"]]"
   ]
  },
  {
   "cell_type": "markdown",
   "metadata": {},
   "source": [
    "Let's examine our twitts now. "
   ]
  },
  {
   "cell_type": "code",
   "execution_count": 7,
   "metadata": {},
   "outputs": [
    {
     "data": {
      "image/png": "[encoded data removed]",
      "text/plain": [
       "<Figure size 360x360 with 1 Axes>"
      ]
     },
     "metadata": {
      "needs_background": "light"
     },
     "output_type": "display_data"
    }
   ],
   "source": [
    "fig, ax = plt.subplots(figsize=(5, 5))\n",
    "plt.boxplot(df_clean.pre_clean_len)\n",
    "plt.show()"
   ]
  },
  {
   "cell_type": "markdown",
   "metadata": {},
   "source": [
    "We can see that the length is normal now. However we cleaned only the simple garbage. \n",
    "Some irrelevant stuff is still there. However is is left for the future research. "
   ]
  },
  {
   "cell_type": "markdown",
   "metadata": {},
   "source": [
    "## Vader sentiment analisys"
   ]
  },
  {
   "cell_type": "code",
   "execution_count": 8,
   "metadata": {},
   "outputs": [],
   "source": [
    "from vaderSentiment.vaderSentiment import SentimentIntensityAnalyzer\n",
    "    #note: depending on how you installed (e.g., using source code download versus pip install), you may need to import like this:\n",
    "    #from vaderSentiment import SentimentIntensityAnalyzer\n",
    "analyzer = SentimentIntensityAnalyzer()\n",
    "compound = []\n",
    "neg = []\n",
    "neu = []\n",
    "pos = []\n",
    "for sentence in df_clean.text:\n",
    "    vs = analyzer.polarity_scores(sentence)\n",
    "    compound.append(vs['compound'])\n",
    "    neg.append(vs['neg'])\n",
    "    neu.append(vs['neu'])\n",
    "    pos.append(vs['pos'])\n",
    "df_clean['compound'] = compound\n",
    "df_clean['neg'] = neg\n",
    "df_clean['neu'] = neu\n",
    "df_clean['pos'] = pos\n",
    "\n",
    "df_clean.to_csv('bit_coin_clean.csv')\n"
   ]
  }
 ],
 "metadata": {
  "kernelspec": {
   "display_name": "Python 3",
   "language": "python",
   "name": "python3"
  },
  "language_info": {
   "codemirror_mode": {
    "name": "ipython",
    "version": 3
   },
   "file_extension": ".py",
   "mimetype": "text/x-python",
   "name": "python",
   "nbconvert_exporter": "python",
   "pygments_lexer": "ipython3",
   "version": "3.6.4"
  }
 },
 "nbformat": 4,
 "nbformat_minor": 2
}
